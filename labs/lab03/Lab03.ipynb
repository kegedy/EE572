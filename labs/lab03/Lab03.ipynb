{
 "cells": [
  {
   "cell_type": "markdown",
   "metadata": {},
   "source": [
    "# Lab03: Intro to Electronics Desktop (ED)\n",
    "\n",
    "Due: Febuary 12, 2019\n",
    "\n",
    "Author: Kevin Egedy"
   ]
  },
  {
   "cell_type": "markdown",
   "metadata": {},
   "source": [
    "## Objective\n",
    "\n",
    "- Familiarize with ED microwave design software\n",
    "- Simulate reflection from an unmatched TL using ideal TL model\n",
    "- Simulate transmission through an unmatched TL using ideal TL model\n",
    "- Simulate physical TL models"
   ]
  },
  {
   "cell_type": "markdown",
   "metadata": {},
   "source": [
    "## Simulations Using Ideal TL\n",
    "\n",
    "### 1. Reflection from an unmatched TL using ideal TL model\n",
    "\n",
    "<img src=\"images/Ideal_TL_Model.png\" width=\"600\">"
   ]
  },
  {
   "cell_type": "markdown",
   "metadata": {},
   "source": [
    "**Steps:** Ideal TL R25.adsn\n",
    "\n",
    "- Set $Z_1$ = 35 ohm\n",
    "- Change the frequency span to 1 to 6 GHz and plot results\n",
    "\n",
    "\n",
    "**Observations:**\n",
    "\n",
    "- $S_{11}$ min occurs at 3 GHz"
   ]
  },
  {
   "cell_type": "markdown",
   "metadata": {},
   "source": [
    "<img src=\"images/Sim1Part1_Ideal_TL_Model_3GHz.png\" width=\"600\">"
   ]
  },
  {
   "cell_type": "markdown",
   "metadata": {},
   "source": [
    "**Steps:** Ideal TL R25.adsn\n",
    "\n",
    "- Change the TL length of $Z_1$ to 180 deg and check the results\n",
    "\n",
    "\n",
    "**Observations:**\n",
    "\n",
    "- $S_{11}$ min occurs at 1.5GHz and 4.5GHz"
   ]
  },
  {
   "cell_type": "markdown",
   "metadata": {},
   "source": [
    "<img src=\"images/Sim1Part2_Ideal_TL_Model_3GHz.png\" width=\"600\">"
   ]
  },
  {
   "cell_type": "markdown",
   "metadata": {},
   "source": [
    "**Steps:** Ideal TL R25.adsn\n",
    "\n",
    "- Change the load resistor to 100 $\\Omega$ and design a new $\\frac{\\lambda}{4}$ TL\n",
    "- Find the value of $Z_1$\n",
    "\n",
    "\n",
    "**Observations:**\n",
    "\n",
    "- $Z_1 = \\sqrt{Z_0 R_L} = \\sqrt{50 \\cdot 100} = 70.7 \\Omega$"
   ]
  },
  {
   "cell_type": "markdown",
   "metadata": {},
   "source": [
    "<img src=\"images/Sim1Part3_Ideal_TL_Model_3GHz.png\" width=\"600\">"
   ]
  },
  {
   "cell_type": "markdown",
   "metadata": {},
   "source": [
    "### 2. Transmission through an unmatched TL using ideal TL model\n",
    "\n",
    "<img src=\"images/Unmatched_TLs.png\" width=\"400\">\n",
    "\n",
    "<img src=\"images/Ideal_Model_Cascaded_TLs.png\" width=\"600\">\n",
    "\n",
    "**Quarter Wave Impedance Transformer Behavior**\n",
    "\n",
    "<img src=\"images/QuarterWaveMatchingCircuit.png\" width=\"400\">"
   ]
  },
  {
   "cell_type": "markdown",
   "metadata": {},
   "source": [
    "**Steps:** Ideal TL R25.adsn\n",
    "\n",
    "- Create the ED model using Port1 and Port2\n",
    "- Set the frequency range to 1-6 GHz\n",
    "- Simulate the transmission (S21)\n",
    "- Simulate the transmission (S11)\n",
    "\n",
    "\n",
    "**Observations:**\n",
    "\n",
    "- $S_{11}$ minima at 2.4GHz\n",
    "- $S_{21}$ is $0$dB when $S_{11}$ is at a minima \n",
    "- Effective length of the 100 $\\Omega$ section is $\\frac{\\lambda}{4}$ when $S_{11}$ becomes minimum"
   ]
  },
  {
   "cell_type": "markdown",
   "metadata": {},
   "source": [
    "<img src=\"images/Sim2Part1_Ideal_TL_Model_2.4GHz.png\" width=\"600\">\n",
    "\n",
    "<img src=\"images/Sim2Part2_Ideal_TL_Model_2.4GHz.png\" width=\"600\">"
   ]
  },
  {
   "cell_type": "markdown",
   "metadata": {},
   "source": [
    "## Simulation Via Physical TLs"
   ]
  },
  {
   "cell_type": "markdown",
   "metadata": {},
   "source": [
    "### 1. Physical microstrip TL characteristics\n",
    "\n",
    "**Generate TL from Duroid 5870:**\n",
    "\n",
    "Circuit > TRL >Microstrip >Single >Duroid5870\n",
    "\n",
    "| Parameter | Value  |\n",
    "|--:--------|--------|\n",
    "| H         | 1.57mm |\n",
    "| HU        | *NA*   |\n",
    "| ER        | 2.33   |\n",
    "| TAND      | 0.0012 |\n",
    "| $Z_0$     | 50     |\n",
    "| E         | 90     |\n",
    "| Synthesis | 3GHz   |\n",
    "\n",
    "**Observations**\n",
    "- $W = 4.644$mm\n",
    "- $K_{\\text{eff}} = 1.9852$"
   ]
  },
  {
   "cell_type": "markdown",
   "metadata": {},
   "source": [
    "<img src=\"images/Sim3Part1_Microstrip.png\" width=\"600\">"
   ]
  },
  {
   "cell_type": "markdown",
   "metadata": {},
   "source": [
    "### 2. Reflection from an unmatched TL using physical TL model\n",
    "\n",
    "**Steps:** \n",
    "\n",
    "Design quarter wave matching circuit based on the TL model from Simulation II. \n",
    "\n",
    "- Ideal $R_L$ is replaced by a $25 \\Omega$ chip resisitor\n",
    "    - Delete $25 \\Omega$ load\n",
    "    - Add a chip resistor\n",
    "        - Resistors > NXCHIPRES: Chip resistor\n",
    "- Ideal TLs are replaced by microstrip TLs\n",
    "    - Delete ideal TLs\n",
    "    - Add a physical TL using\n",
    "        - Components > Distributed > Microstrip > Transmission Lines > MS TRL: Trans. Line physical length\n",
    "- Step is needed to connect two TLs\n",
    "    - Use \"MS STEP\" to include effects of the TL width change\n",
    "        - Distributed > Microstrip > General components > MS Step\n",
    "\n",
    "\n",
    "\n",
    "**Observations:**\n",
    "\n",
    "- "
   ]
  },
  {
   "cell_type": "markdown",
   "metadata": {},
   "source": [
    "<img src=\"images/Sim3Part2_Physical_TL.png\" width=\"600\">\n",
    "\n",
    "<img src=\"images/Sim3Part2_Physical_TL_Response_3GHz.png\" width=\"600\">\n",
    "\n",
    "<img src=\"images/Sim3Part2_Circuit_Physical_TL.png\" width=\"600\">"
   ]
  },
  {
   "cell_type": "markdown",
   "metadata": {},
   "source": [
    "### 3. Transmission through an unmatched TL using physical TL model"
   ]
  },
  {
   "cell_type": "markdown",
   "metadata": {},
   "source": [
    "**Steps:** \n",
    "\n",
    "- Create the ED model using Port1 and Port2\n",
    "- Set the frequency range to 1-6 GHz\n",
    "- Simulate the transmission (S21)\n",
    "- Simulate the transmission (S11)\n",
    "\n",
    "\n",
    "**Observations:**\n",
    "\n",
    "- $S_{21}$ is $0$dB when $S_{11}$ is at a minima \n",
    "- Effective length of the 100 $\\Omega$ section is $\\frac{\\lambda}{4}$ when $S_{11}$ becomes minimum"
   ]
  },
  {
   "cell_type": "markdown",
   "metadata": {},
   "source": [
    "<img src=\"images/Sim3Part3_Duroid.png\" width=\"600\">\n",
    "\n",
    "<img src=\"images/Sim3Part3_Physical_TL_Model.png\" width=\"600\">"
   ]
  },
  {
   "cell_type": "markdown",
   "metadata": {},
   "source": [
    "<img src=\"images/Sim3Part3_Physical_TL_ResponseS11.png\" width=\"600\">\n",
    "\n",
    "<img src=\"images/Sim3Part3_Physical_TL_ResponseS21.png\" width=\"600\">"
   ]
  },
  {
   "cell_type": "markdown",
   "metadata": {},
   "source": [
    "**Calculate expected $S_{11}$ and $S_{21}$**\n",
    "\n",
    "<img src=\"images/Dielectric_Constant_Transmission_1.png\" width=\"200\">"
   ]
  },
  {
   "cell_type": "markdown",
   "metadata": {},
   "source": [
    "**Define voltage for each section**\n",
    "\n",
    "$$\\begin{eqnarray}\n",
    "V_1 &=& V_{\\text{in}}e^{-j\\lambda_0 l} + V_1^- e^{-j\\lambda_0 l} \\\\\n",
    "V_2 &=& V_2^+ e^{-j\\lambda_1 l} + V_2^- e^{-j\\lambda_1 l} \\\\\n",
    "V_3 &=& V_3^+ e^{-j\\lambda_0 (l-d)}\n",
    "\\end{eqnarray}$$\n",
    "\n",
    "**Define reflection coefficients**\n",
    "\n",
    "$$\\begin{eqnarray}\n",
    "\\Gamma = \\frac{Z_S - Z_0}{Z_S + Z_0} \\\\\n",
    "\\Gamma_1 = \\frac{Z_0 - Z_S}{Z_0 + Z_S}\n",
    "\\end{eqnarray}$$\n"
   ]
  },
  {
   "cell_type": "markdown",
   "metadata": {},
   "source": [
    "**Find** $Z_{12}$ and $S_{11}$. \n",
    "\n",
    "**Let** $T = e^{-2j\\beta d}$ \n",
    "\n",
    "**Note** \n",
    "\n",
    "$\\Gamma_1 = -\\Gamma$ and $\\frac{Z_S}{Z_0} = \\frac{1+\\Gamma}{1-\\Gamma}$\n",
    "\n",
    "$$\\begin{eqnarray}\n",
    "Z_{12} &=&& Z_S \\frac{1+\\Gamma_1 e^{-2j\\beta d}}{1-\\Gamma_1 e^{-2j\\beta d}} \\\\\n",
    "       &=&& Z_S \\frac{1-\\Gamma T^2}{1+\\Gamma T^2} \\\\\n",
    "S_{11} &=&& \\frac{Z_{12}-Z_0}{Z_{12}+Z_0} &=&\n",
    "    \\frac{\\frac{Z_S}{Z_0}[\\frac{1-\\Gamma T^2}{1+\\Gamma T^2}]-1}{\\frac{Z_S}{Z_0} [\\frac{1-\\Gamma T^2}{1+\\Gamma T^2}]+1} \\\\\n",
    "       &=&& \\frac{[\\frac{1+\\Gamma}{1-\\Gamma}][\\frac{1-\\Gamma T^2}{1+\\Gamma T^2}]-1}{[\\frac{1+\\Gamma}{1-\\Gamma}] [\\frac{1-\\Gamma T^2}{1+\\Gamma T^2}]+1} \\\\\n",
    "       \\\\\n",
    "       &=&& \\frac{\\Gamma (1-T^2)}{1-\\Gamma^2 T^2}\n",
    "\\end{eqnarray}$$"
   ]
  },
  {
   "cell_type": "code",
   "execution_count": null,
   "metadata": {},
   "outputs": [],
   "source": []
  }
 ],
 "metadata": {
  "kernelspec": {
   "display_name": "Python 3",
   "language": "python",
   "name": "python3"
  },
  "language_info": {
   "codemirror_mode": {
    "name": "ipython",
    "version": 3
   },
   "file_extension": ".py",
   "mimetype": "text/x-python",
   "name": "python",
   "nbconvert_exporter": "python",
   "pygments_lexer": "ipython3",
   "version": "3.7.4"
  }
 },
 "nbformat": 4,
 "nbformat_minor": 2
}
