{
 "cells": [
  {
   "cell_type": "markdown",
   "metadata": {},
   "source": [
    "# Lab05: 2.5 GHz LPF Design\n",
    "\n",
    "Due: Febuary 26, 2019\n",
    "\n",
    "Author: Kevin Egedy"
   ]
  },
  {
   "cell_type": "markdown",
   "metadata": {},
   "source": [
    "## Objective\n",
    "\n",
    "Designing, fabricating, and testing a microwave low pass filter using the insertion loss method and stepped impedance method.\n",
    "\n",
    "## Design Goals\n",
    "- Cutoff freq is 2.5GHz\n",
    "- Maximally flat response\n",
    "- Minimum attenuation of 25 dB at 5GHz\n",
    "- Minimum TL width is 0.4mm\n",
    "- 10 mm section of 50 ohm TL on both ends"
   ]
  },
  {
   "cell_type": "code",
   "execution_count": 1,
   "metadata": {},
   "outputs": [],
   "source": [
    "# Libraries\n",
    "#\n",
    "import sympy as sp\n",
    "import pandas as pd\n",
    "import numpy as np\n",
    "import matplotlib.pyplot as plt\n",
    "import matplotlib.patches as pch\n",
    "%matplotlib inline\n",
    "from IPython.core.interactiveshell import InteractiveShell\n",
    "InteractiveShell.ast_node_interactivity = \"all\""
   ]
  },
  {
   "cell_type": "markdown",
   "metadata": {},
   "source": [
    "## Notes\n",
    "\n",
    "<img src=\"images/Butterworth_Attenuation.png\" width=\"600\">\n",
    "\n",
    "<img src=\"images/Butterworth_ElementValues.png\" width=\"600\">\n",
    "\n",
    "<img src=\"images/Kuroda_Identities.png\" width=\"600\">\n",
    "\n",
    "**Equations**\n",
    "\n",
    "$\\begin{eqnarray}\n",
    "L_k' &=& \\frac{R_0 L_k}{\\omega_c}  \\\\\n",
    "C_k' &=& \\frac{C_k}{R_0 \\omega_c} \\\\\n",
    "Z_{\\text{in}} &\\rightarrow& \n",
    "              \\text{SC}_{(l=\\frac{\\lambda}{8})} &=&\n",
    "              -jZ_1 \\tan{\\beta l} &=& \n",
    "              jZ_1 &=&  jL \\\\\n",
    "Z_{\\text{in}} &\\rightarrow& \n",
    "              \\text{OC}_{(l=\\frac{\\lambda}{8})} &=&\n",
    "              -jZ_1 \\cot{\\beta l} &=&\n",
    "               -jZ_1 &=& \\frac{1}{jC}\n",
    "\\end{eqnarray}$"
   ]
  },
  {
   "cell_type": "code",
   "execution_count": 2,
   "metadata": {},
   "outputs": [
    {
     "name": "stdout",
     "output_type": "stream",
     "text": [
      "L1 = 2.436343868850734e-09\n",
      "C1 = 2.3526920307616338e-12\n",
      "L2 = 5.881730076904084e-09\n",
      "C2 = 9.745375475402936e-13\n"
     ]
    }
   ],
   "source": [
    "def Lk_prime (Lk, R0, wc): \n",
    "    return R0*Lk/wc\n",
    "def Ck_prime (Ck, R0, wc): \n",
    "    return Ck/(R0*wc)\n",
    "\n",
    "R0 = 50\n",
    "f0 = 2.5*10**9\n",
    "wc = 2*np.pi*f0\n",
    "print(f'L1 = {Lk_prime(0.7654,R0,wc)}')\n",
    "print(f'C1 = {Ck_prime(1.8478,R0,wc)}')\n",
    "print(f'L2 = {Lk_prime(1.8478,R0,wc)}')\n",
    "print(f'C2 = {Ck_prime(0.7654,R0,wc)}')"
   ]
  },
  {
   "cell_type": "markdown",
   "metadata": {},
   "source": [
    "### Butterworth Filter Via Insertion Loss Method\n",
    "\n",
    "\n",
    "#### Ideal TL Model\n",
    "\n",
    "In order to achieve $25$dB at $5$GHz, need at least $4$ reactive elements (obtained from attenuation table). In my solution, I choose $N=4$ elements.\n",
    "\n",
    "| Parameter  | Element  |  Normalized Value ($\\omega_c$=1) | Circuit Value ($Z_0=50$) |\n",
    "|:----------:|:-----:|:------:|:---------:|\n",
    "| $g_1$      | $L_1$ | 0.7654 | 2.4363 nH |\n",
    "| $g_2$      | $C_1$ | 1.8478 | 2.3527 pF |\n",
    "| $g_3$      | $L_2$ | 1.8478 | 5.8817 nH |\n",
    "| $g_4$      | $C_1$ | 0.7654 | 0.9745 pF |\n",
    "| $g_5$      | $R_L$ | 1.0000 | 50.00 Ohm |"
   ]
  },
  {
   "cell_type": "markdown",
   "metadata": {},
   "source": [
    "<img src=\"images/Kuroda_Model.png\" width=\"400\">"
   ]
  },
  {
   "cell_type": "markdown",
   "metadata": {},
   "source": [
    "**Kuroda Identities**"
   ]
  },
  {
   "cell_type": "markdown",
   "metadata": {},
   "source": [
    "<img src=\"images/Kuroda_CaseA_1.png\" width=\"400\">"
   ]
  },
  {
   "cell_type": "code",
   "execution_count": 3,
   "metadata": {},
   "outputs": [
    {
     "data": {
      "text/plain": [
       "[{Z1: 1.76500000000000, Z2: 2.30718954248366, n_sqr: 2.30718954248366}]"
      ]
     },
     "execution_count": 3,
     "metadata": {},
     "output_type": "execute_result"
    }
   ],
   "source": [
    "Z1,Z2,n_sqr = sp.symbols('Z1,Z2,n_sqr')\n",
    "system = sp.Matrix([\n",
    "    [Z1/n_sqr-0.765],\n",
    "    [Z2/n_sqr-1],\n",
    "    [1+Z2/Z1-n_sqr]\n",
    "])\n",
    "sp.solve(system)"
   ]
  },
  {
   "cell_type": "markdown",
   "metadata": {},
   "source": [
    "<img src=\"images/Kuroda_CaseA_2.png\" width=\"400\">"
   ]
  },
  {
   "cell_type": "code",
   "execution_count": 4,
   "metadata": {},
   "outputs": [
    {
     "data": {
      "text/plain": [
       "(0.43346337234503685, 0.5665366276549632)"
      ]
     },
     "execution_count": 4,
     "metadata": {},
     "output_type": "execute_result"
    }
   ],
   "source": [
    "Z1 = 1\n",
    "Z2 = 1.307\n",
    "n_sqr = 1+Z2/Z1\n",
    "Z1/n_sqr,Z2/n_sqr"
   ]
  },
  {
   "cell_type": "markdown",
   "metadata": {},
   "source": [
    "**Regroup**\n",
    "\n",
    "<img src=\"images/Kuroda_Summary1.png\" width=\"400\">\n",
    "\n",
    "**Solve Remaining Series TL**"
   ]
  },
  {
   "cell_type": "markdown",
   "metadata": {},
   "source": [
    "<img src=\"images/Kuroda_CaseB_1.png\" width=\"500\">"
   ]
  },
  {
   "cell_type": "code",
   "execution_count": 10,
   "metadata": {},
   "outputs": [
    {
     "data": {
      "text/plain": [
       "(2.415, 0.740965909090909)"
      ]
     },
     "execution_count": 10,
     "metadata": {},
     "output_type": "execute_result"
    }
   ],
   "source": [
    "Z1 = 1.848\n",
    "Z2 = 0.567\n",
    "n_sqr = 1+Z2/Z1\n",
    "Z1*n_sqr,Z2*n_sqr"
   ]
  },
  {
   "cell_type": "markdown",
   "metadata": {},
   "source": [
    "<img src=\"images/Kuroda_CaseB_2.png\" width=\"450\">"
   ]
  },
  {
   "cell_type": "code",
   "execution_count": 9,
   "metadata": {},
   "outputs": [
    {
     "data": {
      "text/plain": [
       "(1.4329999999999998, 3.3094688221709005)"
      ]
     },
     "execution_count": 9,
     "metadata": {},
     "output_type": "execute_result"
    }
   ],
   "source": [
    "Z1 = 0.433\n",
    "Z2 = 1\n",
    "n_sqr = 1+Z2/Z1\n",
    "Z1*n_sqr,Z2*n_sqr"
   ]
  },
  {
   "cell_type": "markdown",
   "metadata": {},
   "source": [
    "**Normalized**\n",
    "<img src=\"images/Butterworth_Ideal_Summary.png\" width=\"450\">\n",
    "\n",
    "\n",
    "**50 Ohm**\n",
    "<img src=\"images/Butterworth_Ideal_Summary_Actual.png\" width=\"450\">"
   ]
  },
  {
   "cell_type": "markdown",
   "metadata": {},
   "source": [
    "**Ideal Simulation**\n",
    "<img src=\"images/Butterworth_Ideal_S11.png\" width=\"450\">\n",
    "<img src=\"images/Butterworth_Ideal_S21.png\" width=\"450\">"
   ]
  },
  {
   "cell_type": "markdown",
   "metadata": {},
   "source": [
    "### Stepped Impedance Filter\n",
    "\n",
    "Requirements:\n",
    "- $Z_{\\text{high}} = 150 \\Omega$\n",
    "- $Z_{\\text{low}} = 15 \\Omega$\n",
    "\n",
    "<img src=\"images/Stepped_Impedance_Model.png\" width=\"450\">\n",
    "\n",
    "**Short high-$Z_0$ TL**\n",
    "\n",
    "- $\\beta l = \\frac{LR_0}{Z_h} = \\frac{1 \\cdot 50}{150} = 0.33\\text{radians} = {19.1}^{\\circ} $\n",
    "\n",
    "**Short low-$Z_0$ TL**\n",
    "\n",
    "- $\\beta l = \\frac{C}{R_0}Z_l = \\frac{2 \\cdot 15}{50} = 0.6\\text{radians} = {34.38}^{\\circ} $\n",
    "\n",
    "**Ideal TL Model**\n",
    "\n",
    "<img src=\"images/Stepped_Impedance_Ideal_TL.png\" width=\"450\">\n",
    "\n",
    "**Ideal Simulation**\n",
    "\n",
    "<img src=\"images/Stepped_Ideal_S11.png\" width=\"450\">\n",
    "<img src=\"images/Stepped_Ideal_S21.png\" width=\"450\">"
   ]
  },
  {
   "cell_type": "code",
   "execution_count": null,
   "metadata": {},
   "outputs": [],
   "source": []
  }
 ],
 "metadata": {
  "kernelspec": {
   "display_name": "Python 3",
   "language": "python",
   "name": "python3"
  },
  "language_info": {
   "codemirror_mode": {
    "name": "ipython",
    "version": 3
   },
   "file_extension": ".py",
   "mimetype": "text/x-python",
   "name": "python",
   "nbconvert_exporter": "python",
   "pygments_lexer": "ipython3",
   "version": "3.7.3"
  }
 },
 "nbformat": 4,
 "nbformat_minor": 2
}
