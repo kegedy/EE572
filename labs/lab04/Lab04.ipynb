{
 "cells": [
  {
   "cell_type": "markdown",
   "metadata": {},
   "source": [
    "# Lab04: 90 Degree Hybrid Design at 2.4 GHz\n",
    "\n",
    "Due: Febuary 19, 2019\n",
    "\n",
    "Author: Kevin Egedy"
   ]
  },
  {
   "cell_type": "markdown",
   "metadata": {},
   "source": [
    "## Objective\n",
    "\n",
    "Design a ${90}^{\\circ}$ hybrid circuit using the layout modification technique. Adjust the TL length uniformly along (A,D),(B,C) and/or uniformly along (A,B),(D,C) to achieve characteristiscs.\n",
    "\n",
    "**Definition:** ${90}^{\\circ}$ hybrid is a simple 3dB coupler (splits an input signal) with ${0}^{\\circ}$ or ${90}^{\\circ}$ phase difference between two output ports."
   ]
  },
  {
   "cell_type": "markdown",
   "metadata": {},
   "source": [
    "## Design Goals\n",
    "\n",
    "- $|S_{21}| - |S_{31}|$ is within $0.5$ dB\n",
    "- $|S_{24}| - |S_{34}|$ is within $0.5$ dB\n",
    "- $\\angle S_{21} - \\angle S_{31}$ is $\\in [{87.5}^{\\circ},{92.5}^{\\circ}]$ at $f_0$\n",
    "- $\\angle S_{24} - \\angle S_{34}$ is $\\in [{87.5}^{\\circ},{92.5}^{\\circ}]$ at $f_0$\n",
    "- $|S_{14}|$ and $|S_{23}| \\leq$   $-20$ dB at $f_0$ (Isolation)\n",
    "- $|S_{11}|, |S_{22}|, |S_{33}|, |S_{44}| \\leq$ $-20$ dB at $f_0$ (Port matching)"
   ]
  },
  {
   "cell_type": "markdown",
   "metadata": {},
   "source": [
    "## Circuit Simulations Using Ideal TL\n",
    "\n",
    "\n",
    "<img src=\"images/Hybrid_Ideal_Model.png\" width=\"400\">\n",
    "\n",
    "<img src=\"images/Hybrid_Ideal_Circuit.png\" width=\"400\">"
   ]
  },
  {
   "cell_type": "markdown",
   "metadata": {},
   "source": [
    "#### $|S_{21}|$ and $|S_{31}|$\n",
    "\n",
    "<img src=\"images/ideal/magS21_magS31.png\" width=\"600\">"
   ]
  },
  {
   "cell_type": "markdown",
   "metadata": {},
   "source": [
    "#### $|S_{24}|$ and $|S_{34}|$\n",
    "\n",
    "<img src=\"images/ideal/magS24_magS34.png\" width=\"600\">"
   ]
  },
  {
   "cell_type": "markdown",
   "metadata": {},
   "source": [
    "#### $\\angle S_{21}$ and $\\angle S_{31}$\n",
    "\n",
    "<img src=\"images/ideal/phaseS21_phaseS31.png\" width=\"600\">"
   ]
  },
  {
   "cell_type": "markdown",
   "metadata": {},
   "source": [
    "#### $\\angle S_{24}$ and $\\angle S_{34}$\n",
    "\n",
    "<img src=\"images/ideal/phaseS24_phaseS34.png\" width=\"600\">"
   ]
  },
  {
   "cell_type": "markdown",
   "metadata": {},
   "source": [
    "#### $|S_{14}|$ and $|S_{23}|$\n",
    "\n",
    "<img src=\"images/ideal/magS14_magS23.png\" width=\"600\">"
   ]
  },
  {
   "cell_type": "markdown",
   "metadata": {},
   "source": [
    "## Circuit Simulations Via Physical TLs\n",
    "\n",
    "<img src=\"images/Hybrid_Physical_TL.png\" width=\"300\">"
   ]
  },
  {
   "cell_type": "markdown",
   "metadata": {},
   "source": [
    "### Design TL Characteristics\n",
    "\n",
    "**50 Ohm, 2.4 GHz, Half Wave -> W=4.63895mm, P=44.3807mm**\n",
    "<img src=\"images/PhysicalTL_50_Ohm_2.4GHz_HalfWave.png\" width=\"500\">\n",
    "\n",
    "**50 Ohm, 2.4 GHz, Quarter Wave -> W=4.63895mm, P=22.1904mm**\n",
    "<img src=\"images/PhysicalTL_50_Ohm_2.4GHz_QuarterWave.png\" width=\"500\">\n",
    "\n",
    "**35.5 Ohm, 2.4 GHz, Quarter Wave -> W=7.55668mm, P=21.825mm**\n",
    "<img src=\"images/PhysicalTL_35Ohm_2.4GHz_QuarterWave.png\" width=\"500\">"
   ]
  },
  {
   "cell_type": "markdown",
   "metadata": {},
   "source": [
    "## Untuned\n",
    "\n",
    "<img src=\"images/Physical_Untuned_Model.png\" width=\"600\">"
   ]
  },
  {
   "cell_type": "markdown",
   "metadata": {},
   "source": [
    "#### $|S_{21}|$ and $|S_{31}|$\n",
    "\n",
    "<img src=\"images/physical/magS21_magS31.png\" width=\"600\">"
   ]
  },
  {
   "cell_type": "markdown",
   "metadata": {},
   "source": [
    "#### $|S_{24}|$ and $|S_{34}|$\n",
    "\n",
    "<img src=\"images/physical/magS24_magS34.png\" width=\"600\">"
   ]
  },
  {
   "cell_type": "markdown",
   "metadata": {},
   "source": [
    "#### $\\angle S_{21}$ and $\\angle S_{31}$\n",
    "\n",
    "<img src=\"images/physical/phaseS21_phaseS31.png\" width=\"600\">"
   ]
  },
  {
   "cell_type": "markdown",
   "metadata": {},
   "source": [
    "#### $\\angle S_{24}$ and $\\angle S_{34}$\n",
    "\n",
    "<img src=\"images/physical/phaseS24_phaseS34.png\" width=\"600\">"
   ]
  },
  {
   "cell_type": "markdown",
   "metadata": {},
   "source": [
    "#### $|S_{14}|$ and $|S_{23}|$\n",
    "\n",
    "<img src=\"images/physical/magS14_magS23.png\" width=\"600\">"
   ]
  },
  {
   "cell_type": "markdown",
   "metadata": {},
   "source": [
    "## Tuned\n",
    "\n",
    "<img src=\"images/Physical_Tuned_Model.png\" width=\"600\">\n",
    "\n",
    "| Parameter   | Untuned Circuit | Tuned Circuit |\n",
    "|-------------|-----------------|---------------|\n",
    "| Pvar   (mm) | 21.8250         | 24.20625      |\n",
    "| Pvar2  (mm) | 22.1904         | 15.3364       |\n",
    "| Wvar   (mm) | 7.5567          | 8.3007        |"
   ]
  },
  {
   "cell_type": "markdown",
   "metadata": {},
   "source": [
    "#### $|S_{21}|$ and $|S_{31}|$\n",
    "\n",
    "<img src=\"images/physical_tuned/magS21_magS31.png\" width=\"600\">"
   ]
  },
  {
   "cell_type": "markdown",
   "metadata": {},
   "source": [
    "#### $|S_{24}|$ and $|S_{34}|$\n",
    "\n",
    "<img src=\"images/physical_tuned/magS24_magS34.png\" width=\"600\">"
   ]
  },
  {
   "cell_type": "markdown",
   "metadata": {},
   "source": [
    "#### $\\angle S_{21}$ and $\\angle S_{31}$\n",
    "\n",
    "<img src=\"images/physical_tuned/phaseS21_phaseS31.png\" width=\"600\">"
   ]
  },
  {
   "cell_type": "markdown",
   "metadata": {},
   "source": [
    "#### $\\angle S_{24}$ and $\\angle S_{34}$\n",
    "\n",
    "<img src=\"images/physical_tuned/phaseS24_phaseS34.png\" width=\"600\">"
   ]
  },
  {
   "cell_type": "markdown",
   "metadata": {},
   "source": [
    "#### $|S_{14}|$ and $|S_{23}|$\n",
    "\n",
    "<img src=\"images/physical_tuned/magS14_magS23.png\" width=\"600\">"
   ]
  },
  {
   "cell_type": "markdown",
   "metadata": {},
   "source": [
    "## EM Simulations\n",
    "\n",
    "<img src=\"images/HFSS.png\" width=\"400\">\n",
    "\n",
    "| Parameter    | Untuned Circuit | Tuned Circuit | Tuned EM |\n",
    "|--------------|-----------------|---------------|----------|\n",
    "| Pvar    (mm) | 21.8250         | 24.20625      | 24       |\n",
    "| Pvar2   (mm) | 22.1904         | 15.3364       | 24       |\n",
    "| Wvar    (mm) | 7.5567          | 8.3007        | 7.9      |"
   ]
  },
  {
   "cell_type": "markdown",
   "metadata": {},
   "source": [
    "#### $|S_{21}|$ and $|S_{31}|$\n",
    "\n",
    "<img src=\"images/em_simulation/magS21_magS31.png\" width=\"800\">"
   ]
  },
  {
   "cell_type": "markdown",
   "metadata": {},
   "source": [
    "#### $|S_{24}|$ and $|S_{34}|$\n",
    "\n",
    "<img src=\"images/em_simulation/magS24_magS34.png\" width=\"800\">"
   ]
  },
  {
   "cell_type": "markdown",
   "metadata": {},
   "source": [
    "#### $\\angle S_{21}$ and $\\angle S_{31}$\n",
    "\n",
    "<img src=\"images/em_simulation/phaseS21_phaseS31.png\" width=\"800\">"
   ]
  },
  {
   "cell_type": "markdown",
   "metadata": {},
   "source": [
    "#### $\\angle S_{24}$ and $\\angle S_{34}$\n",
    "\n",
    "<img src=\"images/em_simulation/phaseS24_phaseS34.png\" width=\"800\">"
   ]
  },
  {
   "cell_type": "markdown",
   "metadata": {},
   "source": [
    "#### $|S_{14}|$ and $|S_{23}|$\n",
    "\n",
    "<img src=\"images/em_simulation/magS14_magS23.png\" width=\"800\">"
   ]
  },
  {
   "cell_type": "markdown",
   "metadata": {},
   "source": [
    "#### $|S_{11}|$ and $|S_{22}|$ and $|S_{33}|$ and $|S_{44}|$\n",
    "\n",
    "<img src=\"images/em_simulation/matched_ports.png\" width=\"800\">"
   ]
  },
  {
   "cell_type": "markdown",
   "metadata": {},
   "source": [
    "### HW Problem\n",
    "\n",
    "<img src=\"images/hw.png\" width=\"300\">\n",
    "\n",
    "<img src=\"images/simplified_circuit.png\" width=\"500\">"
   ]
  },
  {
   "cell_type": "markdown",
   "metadata": {},
   "source": [
    "**Analysis**\n",
    "\n",
    "Using the even and odd mode analyis, the circuit can be divided into two equal parts.  The input voltage is defined as:\n",
    "$V_0 = \n",
    "\\begin{cases} \n",
    "    \\frac{1}{2}V_0 +  \\frac{1}{2}V_0 \\rightarrow \\text{Port 1} \\\\ \n",
    "    \\frac{1}{2}V_0 -  \\frac{1}{2}V_0 \\rightarrow \\text{Port 3} \\\\ \n",
    "\\end{cases}\n",
    "$\n",
    "\n",
    "In each case, the first term is defined as even and the second term is defined as the odd. Notice the symmetry of the circuit, such that port 1 is equivalent to port 3 and port 2 is equivalent to port 4. To calculate the S matrix, I analyzed the top portion of the circuit. The circuit can be simplified due to $\\frac{\\lambda}{2}$ transmission line properties. The $\\frac{\\lambda}{2}$ transmission line matches the load to $Z_{\\text{in}}$. \n",
    "\n",
    "$$Z_{\\text{in}} = Z_0 \\frac{Z_L+jtan{\\beta l}}{1+jZ_L tan{\\beta l}} \n",
    "            |_{\\beta=\\frac{2\\pi}{\\lambda} \\text{, } l=\\frac{\\lambda}{2}} =\n",
    "            Z_0 \\frac{Z_L}{Z_0} = Z_L$$\n",
    "\n",
    "Since the load is ground, ports 1 and 2 are effectively shorted. Then the S parameters with input at port 1 are defined as\n",
    "\n",
    "$\\begin{eqnarray}\n",
    "S_{11} &=& \\frac{1}{2}[\\Gamma_E + \\Gamma_O] \\\\\n",
    "S_{21} &=& \\frac{1}{2}[T_E + T_O] \\\\\n",
    "S_{31} &=& \\frac{1}{2}[\\Gamma_E + \\Gamma_O] \\\\\n",
    "S_{41} &=& \\frac{1}{2}[T_E + T_O] \\\\\n",
    "\\end{eqnarray}$\n",
    "\n",
    "We know $\\Gamma = \\frac{\\text{input}}{\\text{output}}$.  Expanding this to our input voltage at port 1 gives us $\\Gamma_E = \\frac{\\frac{1}{2}V_0}{\\frac{-1}{2}V_0}$ and $\\Gamma_O = \\frac{\\frac{1}{2}V_0}{\\frac{-1}{2}V_0}$. Evaluate the S parameters defined earlier. Note nothing is measured at ports 3 and 4 with input at port 1 due to open/short.\n",
    "\n",
    "$\\begin{eqnarray}\n",
    "S_{11} &=& \\frac{1}{2}[\\Gamma_E + \\Gamma_O] &=& -1\\\\\n",
    "S_{21} &=& \\frac{1}{2}[T_E + T_O] &=& 0\\\\\n",
    "S_{31} &=& \\frac{1}{2}[\\Gamma_E + \\Gamma_O] &=& 0\\\\\n",
    "S_{41} &=& \\frac{1}{2}[T_E + T_O] &=& 0\\\\\n",
    "\\end{eqnarray}$\n",
    "\n",
    "<br>\n",
    "$$\n",
    "S = \\begin{bmatrix}\n",
    "S_{11} && S_{12} && S_{13} && S_{14} \\\\\n",
    "S_{21} && S_{22} && S_{23} && S_{24} \\\\\n",
    "S_{31} && S_{32} && S_{33} && S_{34} \\\\\n",
    "S_{41} && S_{42} && S_{43} && S_{44} \n",
    "\\end{bmatrix}\n",
    "=\n",
    "\\begin{bmatrix}\n",
    "-1 && 0 && 0 && 0 \\\\\n",
    "0 && -1 && 0 && 0 \\\\\n",
    "0 && 0 && -1 && 0 \\\\\n",
    "0 && 0 && 0 && -1 \n",
    "\\end{bmatrix}\n",
    "$$"
   ]
  },
  {
   "cell_type": "markdown",
   "metadata": {},
   "source": [
    "### Conclusion\n",
    "\n",
    "I successfully created a 90 hybrid using the layout modification technique.\n",
    "\n",
    "| Parameter   | Response (dB) at $f_0$|\n",
    "|:-----------:|:---------------------:|\n",
    "| $S_{21}$      | -3.17                 |\n",
    "| $S_{31}$      | -3.10                 |\n",
    "| $S_{24}$      | -3.10                 |\n",
    "| $S_{34}$      | -3.17                 |\n",
    "\n",
    "- $|S_{21}| - |S_{31}| = 0.065$ dB\n",
    "- $|S_{24}| - |S_{34}| = 0.064$ dB\n",
    "- $\\angle S_{21} - \\angle S_{31} = {90.19}^{\\circ}$ at $f_0$\n",
    "- $\\angle S_{24} - \\angle S_{34} = {90.17}^{\\circ}$ at $f_0$\n",
    "- $|S_{14}|, |S_{23}| = -25.52$ dB at $f_0$ (Isolation)\n",
    "- $|S_{11}|, |S_{22}|, |S_{33}|, |S_{44}| = -24.14$ dB at $f_0$ (Port matching)"
   ]
  },
  {
   "cell_type": "code",
   "execution_count": null,
   "metadata": {},
   "outputs": [],
   "source": []
  }
 ],
 "metadata": {
  "kernelspec": {
   "display_name": "Python 3",
   "language": "python",
   "name": "python3"
  },
  "language_info": {
   "codemirror_mode": {
    "name": "ipython",
    "version": 3
   },
   "file_extension": ".py",
   "mimetype": "text/x-python",
   "name": "python",
   "nbconvert_exporter": "python",
   "pygments_lexer": "ipython3",
   "version": "3.7.4"
  }
 },
 "nbformat": 4,
 "nbformat_minor": 2
}
