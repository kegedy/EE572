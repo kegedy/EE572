{
 "cells": [
  {
   "cell_type": "markdown",
   "metadata": {},
   "source": [
    "# Lab04: 90 Degree Hybrid Design at 2.4 GHz\n",
    "\n",
    "Due: Febuary 19, 2019\n",
    "\n",
    "Author: Kevin Egedy"
   ]
  },
  {
   "cell_type": "markdown",
   "metadata": {},
   "source": [
    "## Objective\n",
    "\n",
    "something..."
   ]
  },
  {
   "cell_type": "markdown",
   "metadata": {},
   "source": [
    "## Design Goals\n",
    "\n",
    "- Magnitude difference between $|S_{21}|$ and $|S_{31}|$ is within $2$ dB\n",
    "- Magnitude difference between $|S_{24}|$ and $|S_{34}|$ is within $2$ dB\n",
    "- Phase difference between $\\angle S_{21}$ and $\\angle S_{31}$ is $\\in [{87.5}^{\\circ},{92.5}^{\\circ}]$ at design frequency\n",
    "- Isolation between $|S_{14}|$ and $|S_{23}|$ is less than  $-20$ dB at designed frequency\n",
    "- Port matching $|S_{11}|, |S_{22}|, |S_{33}|, |S_{4}|$ is less than $-20$ dB at designed frequency"
   ]
  },
  {
   "cell_type": "markdown",
   "metadata": {},
   "source": []
  },
  {
   "cell_type": "code",
   "execution_count": null,
   "metadata": {},
   "outputs": [],
   "source": []
  }
 ],
 "metadata": {
  "kernelspec": {
   "display_name": "Python 3",
   "language": "python",
   "name": "python3"
  },
  "language_info": {
   "codemirror_mode": {
    "name": "ipython",
    "version": 3
   },
   "file_extension": ".py",
   "mimetype": "text/x-python",
   "name": "python",
   "nbconvert_exporter": "python",
   "pygments_lexer": "ipython3",
   "version": "3.7.3"
  }
 },
 "nbformat": 4,
 "nbformat_minor": 2
}
