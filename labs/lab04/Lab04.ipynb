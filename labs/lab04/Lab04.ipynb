{
 "cells": [
  {
   "cell_type": "markdown",
   "metadata": {},
   "source": [
    "# Lab04: 90 Degree Hybrid Design at 2.4 GHz\n",
    "\n",
    "Due: Febuary 19, 2019\n",
    "\n",
    "Author: Kevin Egedy"
   ]
  },
  {
   "cell_type": "markdown",
   "metadata": {},
   "source": [
    "## Objective\n",
    "\n",
    "Design a ${90}^{\\circ}$ hybrid circuit using the layout modification technique. \n",
    "\n",
    "**Definition:** ${90}^{\\circ}$ hybrid is a simple 3dB coupler (splits an input signal) with ${0}^{\\circ}$ or ${90}^{\\circ}$ phase difference between two output ports."
   ]
  },
  {
   "cell_type": "markdown",
   "metadata": {},
   "source": [
    "## Design Goals\n",
    "\n",
    "- Magnitude difference between $|S_{21}|$ and $|S_{31}|$ is within $2$ dB\n",
    "- Magnitude difference between $|S_{24}|$ and $|S_{34}|$ is within $2$ dB\n",
    "- Phase difference between $\\angle S_{21}$ and $\\angle S_{31}$ is $\\in [{87.5}^{\\circ},{92.5}^{\\circ}]$ at design frequency\n",
    "- Isolation between $|S_{14}|$ and $|S_{23}|$ is less than  $-20$ dB at designed frequency\n",
    "- Port matching $|S_{11}|, |S_{22}|, |S_{33}|, |S_{44}|$ is less than $-20$ dB at designed frequency"
   ]
  },
  {
   "cell_type": "markdown",
   "metadata": {},
   "source": [
    "## Circuit Simulations Using Ideal TL\n",
    "\n",
    "\n",
    "<img src=\"images/Hybrid_Ideal_Model.png\" width=\"400\">\n",
    "\n",
    "<img src=\"images/Hybrid_Ideal_Circuit.png\" width=\"400\">"
   ]
  },
  {
   "cell_type": "markdown",
   "metadata": {},
   "source": [
    "#### $|S_{21}|$ and $|S_{31}|$\n",
    "\n",
    "<img src=\"images/ideal/magS21_magS31.png\" width=\"600\">"
   ]
  },
  {
   "cell_type": "markdown",
   "metadata": {},
   "source": [
    "#### $|S_{24}|$ and $|S_{34}|$\n",
    "\n",
    "<img src=\"images/ideal/magS24_magS34.png\" width=\"600\">"
   ]
  },
  {
   "cell_type": "markdown",
   "metadata": {},
   "source": [
    "#### $\\angle S_{21}$ and $\\angle S_{31}$\n",
    "\n",
    "<img src=\"images/ideal/phaseS21_phaseS31.png\" width=\"600\">"
   ]
  },
  {
   "cell_type": "markdown",
   "metadata": {},
   "source": [
    "#### $\\angle S_{24}$ and $\\angle S_{34}$\n",
    "\n",
    "<img src=\"images/ideal/phaseS24_phaseS34.png\" width=\"600\">"
   ]
  },
  {
   "cell_type": "markdown",
   "metadata": {},
   "source": [
    "#### $|S_{14}|$ and $|S_{23}|$\n",
    "\n",
    "<img src=\"images/ideal/magS14_magS23.png\" width=\"600\">"
   ]
  },
  {
   "cell_type": "markdown",
   "metadata": {},
   "source": [
    "## Circuit Simulations Via Physical TLs\n",
    "\n",
    "<img src=\"images/Hybrid_Physical_TL.png\" width=\"300\">"
   ]
  },
  {
   "cell_type": "markdown",
   "metadata": {},
   "source": [
    "### Design TL Characteristics\n",
    "\n",
    "**50 Ohm, 2.4 GHz, Half Wave -> W=4.63895mm, P=44.3807mm**\n",
    "<img src=\"images/PhysicalTL_50_Ohm_2.4GHz_HalfWave.png\" width=\"500\">\n",
    "\n",
    "**50 Ohm, 2.4 GHz, Quarter Wave -> W=4.63895mm, P=22.1904mm**\n",
    "<img src=\"images/PhysicalTL_50_Ohm_2.4GHz_QuarterWave.png\" width=\"500\">\n",
    "\n",
    "**35.5 Ohm, 2.4 GHz, Quarter Wave -> W=7.55668mm, P=21.825mm**\n",
    "<img src=\"images/PhysicalTL_35Ohm_2.4GHz_QuarterWave.png\" width=\"500\">"
   ]
  },
  {
   "cell_type": "markdown",
   "metadata": {},
   "source": [
    "## Untuned\n",
    "\n",
    "<img src=\"images/Physical_Untuned_Model.png\" width=\"600\">"
   ]
  },
  {
   "cell_type": "markdown",
   "metadata": {},
   "source": [
    "#### $|S_{21}|$ and $|S_{31}|$\n",
    "\n",
    "<img src=\"images/physical/magS21_magS31.png\" width=\"600\">"
   ]
  },
  {
   "cell_type": "markdown",
   "metadata": {},
   "source": [
    "#### $|S_{24}|$ and $|S_{34}|$\n",
    "\n",
    "<img src=\"images/physical/magS24_magS34.png\" width=\"600\">"
   ]
  },
  {
   "cell_type": "markdown",
   "metadata": {},
   "source": [
    "#### $\\angle S_{21}$ and $\\angle S_{31}$\n",
    "\n",
    "<img src=\"images/physical/phaseS21_phaseS31.png\" width=\"600\">"
   ]
  },
  {
   "cell_type": "markdown",
   "metadata": {},
   "source": [
    "#### $\\angle S_{24}$ and $\\angle S_{34}$\n",
    "\n",
    "<img src=\"images/physical/phaseS24_phaseS34.png\" width=\"600\">"
   ]
  },
  {
   "cell_type": "markdown",
   "metadata": {},
   "source": [
    "#### $|S_{14}|$ and $|S_{23}|$\n",
    "\n",
    "<img src=\"images/physical/magS14_magS23.png\" width=\"600\">"
   ]
  },
  {
   "cell_type": "markdown",
   "metadata": {},
   "source": [
    "## Tuned\n",
    "\n",
    "<img src=\"images/Physical_Tuned_Model.png\" width=\"600\">\n",
    "\n",
    "| Parameter   | Untuned Circuit | Tuned Circuit |\n",
    "|-------------|-----------------|---------------|\n",
    "| Pvar   (mm) | 21.8250         | 24.20625      |\n",
    "| Pvar2  (mm) | 22.1904         | 15.3364       |\n",
    "| Wvar   (mm) | 7.5567          | 8.3007        |"
   ]
  },
  {
   "cell_type": "markdown",
   "metadata": {},
   "source": [
    "#### $|S_{21}|$ and $|S_{31}|$\n",
    "\n",
    "<img src=\"images/physical_tuned/magS21_magS31.png\" width=\"600\">"
   ]
  },
  {
   "cell_type": "markdown",
   "metadata": {},
   "source": [
    "#### $|S_{24}|$ and $|S_{34}|$\n",
    "\n",
    "<img src=\"images/physical_tuned/magS24_magS34.png\" width=\"600\">"
   ]
  },
  {
   "cell_type": "markdown",
   "metadata": {},
   "source": [
    "#### $\\angle S_{21}$ and $\\angle S_{31}$\n",
    "\n",
    "<img src=\"images/physical_tuned/phaseS21_phaseS31.png\" width=\"600\">"
   ]
  },
  {
   "cell_type": "markdown",
   "metadata": {},
   "source": [
    "#### $\\angle S_{24}$ and $\\angle S_{34}$\n",
    "\n",
    "<img src=\"images/physical_tuned/phaseS24_phaseS34.png\" width=\"600\">"
   ]
  },
  {
   "cell_type": "markdown",
   "metadata": {},
   "source": [
    "#### $|S_{14}|$ and $|S_{23}|$\n",
    "\n",
    "<img src=\"images/physical_tuned/magS14_magS23.png\" width=\"600\">"
   ]
  },
  {
   "cell_type": "markdown",
   "metadata": {},
   "source": [
    "## EM Simulations\n",
    "\n",
    "<img src=\"images/HFSS.png\" width=\"400\">\n",
    "\n",
    "| Parameter    | Untuned Circuit | Tuned Circuit | Tuned EM |\n",
    "|--------------|-----------------|---------------|----------|\n",
    "| Pvar    (mm) | 21.8250         | 24.20625      | 24       |\n",
    "| Pvar2   (mm) | 22.1904         | 15.3364       | 24       |\n",
    "| Wvar    (mm) | 7.5567          | 8.3007        | 7.9      |"
   ]
  },
  {
   "cell_type": "markdown",
   "metadata": {},
   "source": [
    "#### $|S_{21}|$ and $|S_{31}|$\n",
    "\n",
    "<img src=\"images/em_simulation/magS21_magS31.png\" width=\"600\">"
   ]
  },
  {
   "cell_type": "markdown",
   "metadata": {},
   "source": [
    "#### $|S_{24}|$ and $|S_{34}|$\n",
    "\n",
    "<img src=\"images/em_simulation/magS24_magS34.png\" width=\"600\">"
   ]
  },
  {
   "cell_type": "markdown",
   "metadata": {},
   "source": [
    "#### $\\angle S_{21}$ and $\\angle S_{31}$\n",
    "\n",
    "<img src=\"images/em_simulation/phaseS21_phaseS31.png\" width=\"600\">"
   ]
  },
  {
   "cell_type": "markdown",
   "metadata": {},
   "source": [
    "#### $\\angle S_{24}$ and $\\angle S_{34}$\n",
    "\n",
    "<img src=\"images/em_simulation/phaseS24_phaseS34.png\" width=\"600\">"
   ]
  },
  {
   "cell_type": "markdown",
   "metadata": {},
   "source": [
    "#### $|S_{14}|$ and $|S_{23}|$\n",
    "\n",
    "<img src=\"images/em_simulation/magS14_magS23.png\" width=\"600\">"
   ]
  },
  {
   "cell_type": "markdown",
   "metadata": {},
   "source": [
    "#### $|S_{11}|$ and $|S_{22}|$ and $|S_{33}|$ and $|S_{44}|$\n",
    "\n",
    "<img src=\"images/em_simulation/matched_ports.png\" width=\"600\">"
   ]
  },
  {
   "cell_type": "code",
   "execution_count": null,
   "metadata": {},
   "outputs": [],
   "source": []
  },
  {
   "cell_type": "code",
   "execution_count": null,
   "metadata": {},
   "outputs": [],
   "source": []
  }
 ],
 "metadata": {
  "kernelspec": {
   "display_name": "Python 3",
   "language": "python",
   "name": "python3"
  },
  "language_info": {
   "codemirror_mode": {
    "name": "ipython",
    "version": 3
   },
   "file_extension": ".py",
   "mimetype": "text/x-python",
   "name": "python",
   "nbconvert_exporter": "python",
   "pygments_lexer": "ipython3",
   "version": "3.7.4"
  }
 },
 "nbformat": 4,
 "nbformat_minor": 2
}
