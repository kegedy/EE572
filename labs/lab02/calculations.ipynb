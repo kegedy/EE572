{
 "cells": [
  {
   "cell_type": "markdown",
   "metadata": {},
   "source": [
    "# Supporting Documents"
   ]
  },
  {
   "cell_type": "markdown",
   "metadata": {},
   "source": [
    "### Analysis and Estimation of $K_C$ and $K_L$\n",
    "\n",
    "*Use Ch 1 data (reflection) for estimating the characteristics impedance of the coupled lines*\n"
   ]
  },
  {
   "cell_type": "markdown",
   "metadata": {},
   "source": [
    "**(1) Obtain the signal speed $v_0$ on the TL using $V_b$ waveform**\n",
    "\n",
    "*Assume the waveform is a square wave*"
   ]
  },
  {
   "cell_type": "markdown",
   "metadata": {},
   "source": [
    "Given:\n",
    "\n",
    "$\\begin{eqnarray}\n",
    "d &=& L = 0.1 \\text{m}\n",
    "\\end{eqnarray}$\n",
    "\n",
    "Measured:\n",
    "\n",
    "$\\begin{eqnarray}\n",
    "t &=& 110 \\text{ps} \n",
    "\\end{eqnarray}$\n",
    "\n",
    "Solve:\n",
    "\n",
    "$\\begin{eqnarray}\n",
    "\\Delta T &=& \\frac{2L}{v} \\\\\n",
    "v        &=& \\frac{2L}{\\Delta T} \\\\\n",
    "v        &=& \\frac{2(0.1)}{110 \\cdot 10^{-12}} \\\\\n",
    "\\\\\n",
    "         &=& 1.8182 \\cdot 10^8 \\text{m/s}\n",
    "\\end{eqnarray}$"
   ]
  },
  {
   "cell_type": "markdown",
   "metadata": {},
   "source": [
    "#### Signal Speed Summary\n",
    "\n",
    "Measured signal speed $v_0$ on the TL using $V_b$ waveform is $1.82 \\cdot 10^8$ m/s.\n",
    "\n",
    "Given value is $1.71 \\cdot 10^8$ m/s."
   ]
  },
  {
   "cell_type": "markdown",
   "metadata": {},
   "source": [
    "**(2) Using the peak values of $V_b$ and $V_f$, estimate $K_C$ and $K_L$**\n",
    "\n",
    "$[V_{in}(t) - V_{in}(t-\\frac{2d}{v_0})] \\rightarrow V_{\\text{peak}}$"
   ]
  },
  {
   "cell_type": "markdown",
   "metadata": {},
   "source": [
    "**Analysis $K_C$ and $K_L$**\n",
    "\n",
    "Given:\n",
    "\n",
    "$\\begin{eqnarray}\n",
    "d = 0.1 \\text{m}\n",
    "\\end{eqnarray}$\n",
    "\n",
    "Measured:\n",
    "\n",
    "$ \\begin{eqnarray}\n",
    "& V_{b} &=& & 0.0315 \\text{V}  && t_{\\text{rise}} &=& & 9.13 \\text{ps} \\\\\n",
    "& V_{f} &=& & -0.079 \\text{V}  && t_{\\text{rise}} &=& & 6.38 \\text{ps}  \\\\\n",
    "& v_0               &=& & 1.82 \\cdot 10^8 \\text{m/s} \\\\\n",
    "& V_{\\text{peak}}   &=&  & 0.25\n",
    "\\end{eqnarray}$\n",
    "\n",
    "Solve:\n",
    "\n",
    "$\\begin{eqnarray}\n",
    "V_f     &=& & \\frac{K_C-K_L}{2v_0} \\cdot d \\cdot \\frac{\\partial V_{in}}{\\partial t} \\\\\n",
    "\\\\\n",
    "V_f     &=& & \\frac{K_C-K_L}{2v_0} \\cdot \\frac{d}{t_{\\text{rise}}} \\cdot V_{\\text{peak}}\\\\\n",
    "\\\\\n",
    "K_C-K_L &=& & 2 V_f v_0 \\cdot \\frac{t_{\\text{rise}}}{d} \\cdot \\frac{1}{V_{\\text{peak}}}\\\\\n",
    "\\\\\n",
    "K_C-K_L &=& & -0.0733 & (1)\\\\\n",
    "\\\\\n",
    "V_b     &=& & \\frac{K_C+K_L}{4}[V_{in}(t) - V_{in}(t-\\frac{2d}{v_0})]\n",
    "    && \\rightarrow V_{\\text{peak}} = \n",
    "    [V_{in}(t) - V_{in}(t-\\frac{2d}{v_0})]  \\\\\n",
    "\\\\\n",
    "K_C+K_L &=& & \\frac{4 V_b}{V_{\\text{peak}}} \\\\\n",
    "\\\\\n",
    "K_C+K_L &=& & 0.504 & (2)\\\\\n",
    "\\end{eqnarray}$\n",
    "\n",
    "<br>\n",
    "\n",
    "**Summary $K_C$ and $K_L$**\n",
    "\n",
    "Solving two equations with two unknowns. Thus $K_C = 0.21522$ and $K_L = 0.28879$.\n",
    "\n",
    "| Parameter | Measured | Given   |\n",
    "|-----------|----------|---------|\n",
    "| $K_C$     | 0.21522  | 0.19890 |\n",
    "| $K_L$     | 0.28879  | 0.26191 |\n"
   ]
  },
  {
   "cell_type": "markdown",
   "metadata": {},
   "source": [
    "**(3) Using the integration method, estimate the values of $K_C$ and $K_L$**"
   ]
  },
  {
   "cell_type": "markdown",
   "metadata": {},
   "source": [
    "Measured:\n",
    "\n",
    "$\\text{area}(V_b) = 3.2820 \\cdot 10^{-12} $\n",
    "\n",
    "$\\text{area}(V_f) = -6.1721 \\cdot 10^{-13} $\n",
    "\n",
    "\n",
    "**Integration**\n",
    "\n",
    "$\\begin{eqnarray}\n",
    "\\int_{0}^{\\infty} V_f dt &=& \\int_{0}^{\\infty} [\\frac{K_C-K_L}{2v_0} \\cdot d \\cdot \n",
    "    \\frac{d V_{in}}{dt}] dt && \\rightarrow V_{\\text{peak}} = \n",
    "    V_{in}(t) - V_{in}(t-\\frac{2d}{v_0})]\\\\\n",
    "\\\\\n",
    "                    &\\approx& [\\frac{K_C-K_L}{2v_0} \\cdot d \\cdot \n",
    "    \\frac{V_{\\text{peak}}}{t_{\\text{rise}}}] \\int_{0}^{t_{\\text{rise}}} dt \\\\\n",
    "\\\\\n",
    "\\text{area}(V_f)    &=& \\frac{K_C-K_L}{2v_0} \\cdot d \\cdot V_{\\text{peak}} \\\\\n",
    "\\\\\n",
    "K_C-K_L             &=& \\frac{2 v_0}{d \\cdot V_{\\text{peak}}} \\text{area}(V_f)   \\\\\n",
    "\\\\\n",
    "K_C-K_L             &=& 0.0899  && (1)\\\\\n",
    "\\\\\n",
    "\\int_{0}^{\\infty} V_b dt &=& \\int_{0}^{\\infty} \\frac{K_C-K_L}{4}[V_{in}(t) - \n",
    "    V_{in}(t-\\frac{2d}{v_0}]dt \\\\\n",
    "\\\\\n",
    "\\text{area}(V_b)    &=& \\frac{K_C-K_L}{2v_0} \\cdot V_{\\text{peak}} * \\frac{2d}{v_0} \\\\\n",
    "\\\\\n",
    "K_C+K_L             &=& \\frac{4 v_0}{2d \\cdot V_{\\text{peak}}} \\text{area}(V_b)  \\\\\n",
    "\\\\\n",
    "K_C+K_L             &=& 0.4779  && (2)\\\\\n",
    "\\end{eqnarray}$\n",
    "\n",
    "**Integration Summary $K_C$ and $K_L$**\n",
    "\n",
    "Solving two equations with two unknowns. Thus $K_C = 0.1940$ and $K_L = 0.2839$.\n",
    "\n",
    "| Parameter | Measured | Given   |\n",
    "|-----------|----------|---------|\n",
    "| $K_C$     | 0.1940   | 0.19220 |\n",
    "| $K_L$     | 0.2839   | 0.28164 |"
   ]
  },
  {
   "cell_type": "markdown",
   "metadata": {},
   "source": [
    "### Estimation of $C_{1G}, C_{2G}, C_{12}, L_{11}, L_{22}, L_{12} $\n",
    "\n",
    "<img src='images/equivalent_circuit.png' width='500px'>"
   ]
  },
  {
   "cell_type": "markdown",
   "metadata": {},
   "source": [
    "**Unknown Parameters Analysis**\n",
    "\n",
    "Given:\n",
    "\n",
    "$\\begin{eqnarray}\n",
    "C_{1G} && &=& && C_{2G} \\\\\n",
    "L_{11} && &=& && L_{22} \\\\\n",
    "K_C    && &=& && 0.1940 \\\\\n",
    "K_L    && &=& && 0.2839 \\\\\n",
    "v_0    && &=& && 1.82 \\cdot 10^8 \\text{m/s} \\\\\n",
    "\\Gamma && &=& && -0.0345\n",
    "\\end{eqnarray}$\n",
    "\n",
    "Solve:\n",
    "\n",
    "$\\begin{eqnarray}\n",
    "C_1    &&  &=& && C_{1G} + C_{12}            &=& && C_2 \\\\\n",
    "\\\\\n",
    "Z_{01} &&  &=& && \\sqrt{\\frac{L_{11}}{C_1}}  &=& && \\sqrt{\\frac{L_{11}}{C_{1G}+C_{12}}}   &=& && Z_{02} \\\\\n",
    "v_1    &&  &=& && \\frac{1}{\\sqrt{L_{11}C_1}} &=& && \\frac{1}{\\sqrt{L_{11}(C_{1G}+C_{12})}} \n",
    "    &=& && v_2 \\\\\n",
    "K_C && &=& &&\\frac{C_{12}}{C_{1G}+C_{12}} \\\\\n",
    "\\\\\n",
    "K_L && &=& &&\\frac{L_{12}}{L_{11}} \n",
    "\\end{eqnarray}$\n",
    "\n",
    "Calculations;\n",
    "\n",
    "$\\begin{eqnarray}\n",
    "\\Gamma  &&  &=& && −0.0345 &=& &&\n",
    "    \\frac{Z_{01}-Z_0}{Z_{01}+Z_0} \\\\\n",
    "\\\\\n",
    "        &&  && && −0.0345 &=& &&\n",
    "    \\frac{Z_{01}-50}{Z_{01}+50} \\\\\n",
    "\\\\\n",
    "        &&  && && Z_{01} &=& && 46.67 \\\\\n",
    "\\\\\n",
    "46.67  &&  &=& && \\sqrt{\\frac{L_{11}}{C_1}}  &=& && \\sqrt{\\frac{L_{11}}{C_{1G}+C_{12}}}\n",
    "    && (1) \\\\\n",
    "1.82\\cdot 10^8    &&  &=& && \\frac{1}{\\sqrt{L_{11}C_1}} &=& && \\frac{1}{\\sqrt{L_{11}(C_{1G}+C_{12})}} \n",
    "    && (2) \\\\\n",
    "0.1940 && &=& &&\\frac{C_{12}}{C_{1G}+C_{12}} && && && (3)\\\\\n",
    "\\\\\n",
    "0.2839 && &=& &&\\frac{L_{12}}{L_{11}} && && && (4) \n",
    "\\end{eqnarray}$\n",
    "\n"
   ]
  },
  {
   "cell_type": "markdown",
   "metadata": {},
   "source": [
    "**Unknown Parameters Summary**\n",
    "\n",
    "Solving four equations with four unknowns. The reflection of the coupled TL is necessary to calculate the reflection coefficient. Once we find this, we can find the individual characteristic impedance $Z_{01}$. Find the self-capacitance ($C_{1G}=C_{2G}$), mutual capacitance ($C_{12}$), self-inductance($L_{11}, L_{22}$), and mutual inductance($L_{12}$) in the table.\n",
    "\n",
    "| Parameter                  |   | units |   | Measured              |   | Given          |\n",
    "|-:--------------------------|---|-------|---|-----------------------|---|----------------|\n",
    "| $v_0$                      |   | m/s   |   | $1.82$ $\\cdot$ $10^8$ |   | $1.71$ $\\cdot$ $10^8$ |\n",
    "| $K_C$ (method 1)           |   |       |   | $0.2152$              |   | $0.19890$      |\n",
    "| $K_L$ (method 1)           |   |       |   | $0.2888$              |   | $0.26191$      |\n",
    "| $K_C$ (integration method) |   |       |   | $0.1940$              |   | $0.19220$      |\n",
    "| $K_L$ (integration method) |   |       |   | $0.2839$              |   | $0.28164$      |\n",
    "| $Z_{01}$                   |   | ohms  |   | $46.67$               |   | $45.97$        |\n",
    "| $C_{12}$                   |   | pF    |   | $22.83$               |   | $24.50$        |\n",
    "| $C_{1G} = C_{2G}$          |   | pF    |   | $94.89$               |   | $102.77$       |\n",
    "| $L_{11} = L_{22}$          |   | nH    |   | $256.43$              |   | $268.80$       |\n",
    "| $L_{12}$                   |   | nH    |   | $61.26$               |   | $75.71$        |\n"
   ]
  },
  {
   "cell_type": "markdown",
   "metadata": {},
   "source": [
    "### Questions\n",
    "\n",
    "#### 1. Changes in coupled noise polarity due to load type\n",
    "\n",
    "| Data      |  | Coupling  |  | Short       |              | Open        |              |\n",
    "|-:---------|--|-----------|--|-:-----------|-:------------|-:-----------|-:------------|\n",
    "|           |  |           |  | rising edge | falling edge | rising edge | falling edge |\n",
    "| LineA_ChA |  | backwards |  | pos         | neg          | pos         | pos          |\n",
    "| LineA_ChB |  | forwards  |  | neg         | pos          | neg         | neg          |\n",
    "| LineB_ChA |  | backwards |  | pos         | neg          | pos         | pos          |\n",
    "| LineB_ChB |  | forwards  |  | neg         | pos          | neg         | neg          |\n",
    "| LineC_ChA |  | backwards |  | pos         | neg          | pos         | pos          |\n",
    "| LineC_ChB |  | forwards  |  | neg         | pos          | neg         | neg          |\n",
    "\n",
    "- Backward coupled noise follows the same polarity of the input square wave for SHORT termination.\n",
    "- Backward coupled noise remains positive regardless of the input square wave slope for OPEN termination.\n",
    "- Forward coupled noise follows the opposite polarity of the input square wave for SHORT termination.\n",
    "- Forward coupled noise remains negative regardless of the input square wave slope for OPEN termination.\n",
    "\n",
    "\n",
    "#### 2. Show $K_C$ and $K_L$ are dependent on the separation $s$ and independent of length $d$.\n",
    "\n",
    "*Original $K_C$ and $K_L$'were calculated with Line A of distance $d = 0.1$m and separation $s = 0.0005$m.*\n",
    "\n",
    "<hr>\n",
    "\n",
    "Repeat 'Analysis and Estimation of $K_C$ and $K_L$' with Line C of distance $d = 0.05$m and separation $s = 0.0005$m. \n",
    "\n",
    "Repeat 'Analysis and Estimation of $K_C$ and $K_L$' with Line B of distance $d = 0.10$m and separation $s = 0.001$m."
   ]
  },
  {
   "cell_type": "markdown",
   "metadata": {},
   "source": [
    "<hr>\n",
    "\n",
    "#### Line C\n",
    "\n",
    "**(1) Obtain the signal speed $v_0$ on the TL using $V_b$ waveform**\n",
    "\n",
    "*Assume the waveform is a square wave*"
   ]
  },
  {
   "cell_type": "markdown",
   "metadata": {},
   "source": [
    "Given:\n",
    "\n",
    "$\\begin{eqnarray}\n",
    "d &=& L = 0.05 \\text{m}\n",
    "\\end{eqnarray}$\n",
    "\n",
    "Measured:\n",
    "\n",
    "$\\begin{eqnarray}\n",
    "t &=& 53 \\text{ps} \n",
    "\\end{eqnarray}$\n",
    "\n",
    "Solve:\n",
    "\n",
    "$\\begin{eqnarray}\n",
    "\\Delta T &=& \\frac{2L}{v} \\\\\n",
    "v        &=& \\frac{2L}{\\Delta T} \\\\\n",
    "v        &=& \\frac{2(0.05)}{53 \\cdot 10^{-12}} \\\\\n",
    "\\\\\n",
    "         &=& 1.8868 \\cdot 10^8 \\text{m/s}\n",
    "\\end{eqnarray}$"
   ]
  },
  {
   "cell_type": "markdown",
   "metadata": {},
   "source": [
    "#### Signal Speed Summary\n",
    "\n",
    "Measured signal speed $v_0$ on the TL using $V_b$ waveform is $1.8868 \\cdot 10^8$ m/s."
   ]
  },
  {
   "cell_type": "markdown",
   "metadata": {},
   "source": [
    "**(2) Using the peak values of $V_b$ and $V_f$, estimate $K_C$ and $K_L$**\n",
    "\n",
    "$[V_{in}(t) - V_{in}(t-\\frac{2d}{v_0})] \\rightarrow V_{\\text{peak}}$"
   ]
  },
  {
   "cell_type": "markdown",
   "metadata": {},
   "source": [
    "**Analysis $K_C$ and $K_L$**\n",
    "\n",
    "Given:\n",
    "\n",
    "$\\begin{eqnarray}\n",
    "d = 0.05 \\text{m}\n",
    "\\end{eqnarray}$\n",
    "\n",
    "Measured:\n",
    "\n",
    "$ \\begin{eqnarray}\n",
    "& V_{b} &=& & 0.0312 \\text{V}  && t_{\\text{rise}} &=& & 8.75 \\text{ps} \\\\\n",
    "& V_{f} &=& & -0.05 \\text{V}  && t_{\\text{rise}} &=& & 5.0 \\text{ps}  \\\\\n",
    "& v_0               &=& & 1.8868 \\cdot 10^8 \\text{m/s} \\\\\n",
    "& V_{\\text{peak}}   &=&  & 0.25\n",
    "\\end{eqnarray}$\n",
    "\n",
    "Solve:\n",
    "\n",
    "$\\begin{eqnarray}\n",
    "K_C-K_L &=& & 2 V_f v_0 \\cdot \\frac{t_{\\text{rise}}}{d} \\cdot \\frac{1}{V_{\\text{peak}}}\\\\\n",
    "\\\\\n",
    "K_C+K_L &=& & \\frac{4 V_b}{V_{\\text{peak}}} \\\\\n",
    "\\\\\n",
    "K_C-K_L &=& & -0.0075 & (1)\\\\\n",
    "\\\\\n",
    "K_C+K_L &=& & 0.4992 & (2)\\\\\n",
    "\\end{eqnarray}$\n",
    "\n",
    "<br>\n",
    "\n",
    "**Summary $K_C$ and $K_L$**\n",
    "\n",
    "Solving two equations with two unknowns. Thus $K_C = 0.2459$ and $K_L = 0.2534$.\n"
   ]
  },
  {
   "cell_type": "markdown",
   "metadata": {},
   "source": [
    "<hr>\n",
    "\n",
    "#### Line B\n",
    "\n",
    "**(1) Obtain the signal speed $v_0$ on the TL using $V_b$ waveform**\n",
    "\n",
    "*Assume the waveform is a square wave*"
   ]
  },
  {
   "cell_type": "markdown",
   "metadata": {},
   "source": [
    "Given:\n",
    "\n",
    "$\\begin{eqnarray}\n",
    "d &=& L = 0.10 \\text{m}\n",
    "\\end{eqnarray}$\n",
    "\n",
    "Measured:\n",
    "\n",
    "$\\begin{eqnarray}\n",
    "t &=& 111.13 \\text{ps} \n",
    "\\end{eqnarray}$\n",
    "\n",
    "Solve:\n",
    "\n",
    "$\\begin{eqnarray}\n",
    "\\Delta T &=& \\frac{2L}{v} \\\\\n",
    "v        &=& \\frac{2L}{\\Delta T} \\\\\n",
    "v        &=& \\frac{2(0.10)}{111.13 \\cdot 10^{-12}} \\\\\n",
    "\\\\\n",
    "         &=& 1.7997 \\cdot 10^8 \\text{m/s}\n",
    "\\end{eqnarray}$"
   ]
  },
  {
   "cell_type": "markdown",
   "metadata": {},
   "source": [
    "#### Signal Speed Summary\n",
    "\n",
    "Measured signal speed $v_0$ on the TL using $V_b$ waveform is $1.7997 \\cdot 10^8$ m/s."
   ]
  },
  {
   "cell_type": "markdown",
   "metadata": {},
   "source": [
    "**(2) Using the peak values of $V_b$ and $V_f$, estimate $K_C$ and $K_L$**\n",
    "\n",
    "$[V_{in}(t) - V_{in}(t-\\frac{2d}{v_0})] \\rightarrow V_{\\text{peak}}$"
   ]
  },
  {
   "cell_type": "markdown",
   "metadata": {},
   "source": [
    "**Analysis $K_C$ and $K_L$**\n",
    "\n",
    "Given:\n",
    "\n",
    "$\\begin{eqnarray}\n",
    "d = 0.10 \\text{m}\n",
    "\\end{eqnarray}$\n",
    "\n",
    "Measured:\n",
    "\n",
    "$ \\begin{eqnarray}\n",
    "& V_{b} &=& & 0.0216 \\text{V}  && t_{\\text{rise}} &=& & 8.75 \\text{ps} \\\\\n",
    "& V_{f} &=& & -0.0758 \\text{V}  && t_{\\text{rise}} &=& & 6.63 \\text{ps}  \\\\\n",
    "& v_0               &=& & 1.7997 \\cdot 10^8 \\text{m/s} \\\\\n",
    "& V_{\\text{peak}}   &=&  & 0.25\n",
    "\\end{eqnarray}$\n",
    "\n",
    "Solve:\n",
    "\n",
    "$\\begin{eqnarray}\n",
    "K_C-K_L &=& & 2 V_f v_0 \\cdot \\frac{t_{\\text{rise}}}{d} \\cdot \\frac{1}{V_{\\text{peak}}}\\\\\n",
    "\\\\\n",
    "K_C+K_L &=& & \\frac{4 V_b}{V_{\\text{peak}}} \\\\\n",
    "\\\\\n",
    "K_C-K_L &=& & -0.00724 & (1)\\\\\n",
    "\\\\\n",
    "K_C+K_L &=& & 0.3456 & (2)\\\\\n",
    "\\end{eqnarray}$\n",
    "\n",
    "<br>\n",
    "\n",
    "**Summary $K_C$ and $K_L$**\n",
    "\n",
    "Solving two equations with two unknowns. Thus $K_C = 0.1692$ and $K_L = 0.1764$."
   ]
  },
  {
   "cell_type": "markdown",
   "metadata": {},
   "source": [
    "<hr>\n",
    "\n",
    "#### Summary of $\\text{TL}_A$, $\\text{TL}_B$, $\\text{TL}_C$\n",
    "\n",
    "| Coupled Lines  | Coupled length *d* (m) | Line separation *s* (m) | $V_b$ (V)| $V_f$ (V)| b - $t_{\\text{rise}}$ (ps)| f - $t_{\\text{rise}}$ (ps)| $K_C$ | $K_L$ |\n",
    "|:--------------:|:------------------:|:--------------------:|-------|------|--|--|--|--|\n",
    "| A              | $0.10$ | $0.0005$  | $0.2888$| $0.0315$| $9.13$| $6.38$| $0.2152$ | $0.2888$  |\n",
    "| B              | $0.10$ | $0.0010$  | $0.1764$| $0.0216$| $8.75$| $6.63$|$0.1692$ | $0.1764$  |\n",
    "| C              | $0.05$ | $0.0005$  | $0.0312$| $0.0312$| $8.75$| $5.00$|$0.2459$ | $0.2534$  |\n",
    "\n",
    "\n",
    "The separation *s* affects the backwards coupled voltage $V_b$ which is directly correlated to $K_C$ and $K_L$. As sepeation increases, the magnitude of $V_b$ decreases. The coupled length *d* has no effect."
   ]
  },
  {
   "cell_type": "markdown",
   "metadata": {},
   "source": [
    "#### 3. Understand waveforms of forward and backward coupled noisese\n",
    "\n",
    "![](images/Lab02Q3.png)\n",
    "\n",
    "(a) Short load type is attached at Port 2 (thru port).\n",
    "\n",
    "(b) Explain the waveforms A and B are not the same.\n",
    "\n",
    "Forward coupled noise has the following characteristics\n",
    "- magnitude of the forward coupled noise is linearly proportional to the coupled length\n",
    "- pulse width is related to the rise-time\n",
    "- rise-time (positive slope) of the input signal will create a negative pulse and fall-time will create a positive pulse\n",
    "- exists for microstrip but not stripline TLs\n",
    "\n",
    "Given the coupled TL is lossy, the magnitude of forward coupled waveform A is less affected than the backward coupled waveform B since the signal has to travel further for B.\n",
    "\n",
    "\n",
    "(c) Explain the waveforms C and D are not the same.\n",
    "\n",
    "Backward coupled noise has the following characteristics\n",
    "- pulse width is related to the length of the coupled section\n",
    "- magnitude of the backward coupled noise is not proportional to the coupled length\n",
    "- rise-time (positive slope) of the input signal will create a positive pulse and fall-time will create a negative pulse\n",
    "- exists for miscrostrip and stipline TLs\n",
    "\n",
    "The observed signals for backward coupled noise don't arrive at the same time since the travel distance is not the same. These are possible differences in C and D."
   ]
  },
  {
   "cell_type": "code",
   "execution_count": null,
   "metadata": {},
   "outputs": [],
   "source": []
  }
 ],
 "metadata": {
  "kernelspec": {
   "display_name": "Python 3",
   "language": "python",
   "name": "python3"
  },
  "language_info": {
   "codemirror_mode": {
    "name": "ipython",
    "version": 3
   },
   "file_extension": ".py",
   "mimetype": "text/x-python",
   "name": "python",
   "nbconvert_exporter": "python",
   "pygments_lexer": "ipython3",
   "version": "3.7.4"
  }
 },
 "nbformat": 4,
 "nbformat_minor": 2
}
