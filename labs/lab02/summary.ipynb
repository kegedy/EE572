{
 "cells": [
  {
   "cell_type": "markdown",
   "metadata": {},
   "source": [
    "# Lab02: Analysis of Coupled Noises on PCB\n",
    "\n",
    "Due: Febuary 5, 2019\n",
    "\n",
    "Author: Kevin Egedy"
   ]
  },
  {
   "cell_type": "markdown",
   "metadata": {},
   "source": [
    "#### Objectives\n",
    "\n",
    "\n",
    "This lab is to introduce the characteristics of backward and forward coupled noises on\n",
    "coupled transmission lines. You will also study how to obtain the coupling coefficients\n",
    "and lumped element models from the measured data. "
   ]
  },
  {
   "cell_type": "markdown",
   "metadata": {},
   "source": [
    "### Procedure\n",
    "\n",
    "**(1) Reflected, Backward and Forward Coupled Noise Measurements**\n",
    "\n",
    "Steps:\n",
    "- Connect the TDR input (Ch1) to the main line (start with the coupled line A) \n",
    "- Connect Ch A to the backward coupled path\n",
    "- Connect Ch B to the forward coupled path\n",
    "- Connect Cable 4 (short black cable) to the transmitted output\n",
    "\n",
    "Data:\n",
    "- Measure voltage with SHORT connected at the end of Cable 4\n",
    "- Measure voltage with OPEN circuit connected at the end of Cable 4\n",
    "\n",
    "*Repeat the same measurements for coupled lines B and C. Make sure to connect\n",
    "four cables the same way*"
   ]
  },
  {
   "cell_type": "markdown",
   "metadata": {},
   "source": [
    "### Analysis and Estimation of $K_C$ and $K_L$\n",
    "\n",
    "*Use Ch 1 data (reflection) for estimating the characteristics impedance of the coupled lines*\n",
    "\n",
    "#### Signal Speed Summary\n",
    "\n",
    "- Measured signal speed $v_0$ on the TL using $V_b$ waveform is $1.82 \\cdot 10^8$ m/s.\n",
    "- Given value is $1.71 \\cdot 10^8$ m/s."
   ]
  },
  {
   "cell_type": "markdown",
   "metadata": {},
   "source": [
    "**(2) Using the peak values of $V_b$ and $V_f$, estimate $K_C$ and $K_L$**\n",
    "\n",
    "$\\begin{eqnarray}\n",
    "V_f     &=& & \\frac{K_C-K_L}{2v_0} \\cdot \\frac{d}{t_{\\text{rise}}} \\cdot V_{\\text{peak}}\\\\\n",
    "\\\\\n",
    "V_b     &=& & \\frac{K_C+K_L}{4}[V_{in}(t) - V_{in}(t-\\frac{2d}{v_0})]\n",
    "    && \\rightarrow V_{\\text{peak}} = \n",
    "    V_{in}(t) - V_{in}(t-\\frac{2d}{v_0})\n",
    "\\end{eqnarray}$\n",
    "\n",
    "**Summary $K_C$ and $K_L$**\n",
    "\n",
    "| Parameter | Measured | Given   |\n",
    "|-----------|----------|---------|\n",
    "| $K_C$     | 0.21522  | 0.19890 |\n",
    "| $K_L$     | 0.28879  | 0.26191 |"
   ]
  },
  {
   "cell_type": "markdown",
   "metadata": {},
   "source": [
    "**(3) Using the integration method, estimate the values of $K_C$ and $K_L$**\n",
    "\n",
    "$\\begin{eqnarray}\n",
    "\\text{area}(V_f)    &=& \\frac{K_C-K_L}{2v_0} \\cdot d \\cdot V_{\\text{peak}} \\\\\n",
    "\\\\\n",
    "\\text{area}(V_b)    &=& \\frac{K_C-K_L}{2v_0} \\cdot V_{\\text{peak}} * \\frac{2d}{v_0} \\\\\n",
    "\\end{eqnarray}$\n",
    "\n",
    "**Integration Summary $K_C$ and $K_L$**\n",
    "\n",
    "| Parameter | Measured | Given   |\n",
    "|-----------|----------|---------|\n",
    "| $K_C$     | 0.1940   | 0.19220 |\n",
    "| $K_L$     | 0.2839   | 0.28164 |"
   ]
  },
  {
   "cell_type": "markdown",
   "metadata": {},
   "source": [
    "### Estimation of $C_{1G}, C_{2G}, C_{12}, L_{11}, L_{22}, L_{12} $\n",
    "\n",
    "<img src='images/equivalent_circuit.png' width='500px'>\n",
    "\n",
    "Solve:\n",
    "\n",
    "$\\begin{eqnarray}\n",
    "C_1    &&  &=& && C_{1G} + C_{12}            &=& && C_2 \\\\\n",
    "\\\\\n",
    "Z_{01} &&  &=& && \\sqrt{\\frac{L_{11}}{C_1}}  &=& && \\sqrt{\\frac{L_{11}}{C_{1G}+C_{12}}}   &=& && Z_{02} \\\\\n",
    "v_1    &&  &=& && \\frac{1}{\\sqrt{L_{11}C_1}} &=& && \\frac{1}{\\sqrt{L_{11}(C_{1G}+C_{12})}} \n",
    "    &=& && v_2 \\\\\n",
    "K_C && &=& &&\\frac{C_{12}}{C_{1G}+C_{12}} \\\\\n",
    "\\\\\n",
    "K_L && &=& &&\\frac{L_{12}}{L_{11}} \n",
    "\\end{eqnarray}$\n",
    "\n",
    "**Unknown Parameters Summary**\n",
    "\n",
    "| Parameter                  |   | units |   | Measured              |   | Given          |\n",
    "|-:--------------------------|---|-------|---|-----------------------|---|----------------|\n",
    "| $v_0$                      |   | m/s   |   | $1.82$ $\\cdot$ $10^8$ |   | $1.71$ $\\cdot$ $10^8$ |\n",
    "| $K_C$ (method 1)           |   |       |   | $0.1940$              |   | $0.19890$      |\n",
    "| $K_L$ (method 1)           |   |       |   | $0.2839$              |   | $0.26191$      |\n",
    "| $K_C$ (integration method) |   |       |   | $0.1940$              |   | $0.19220$      |\n",
    "| $K_L$ (integration method) |   |       |   | $0.2839$              |   | $0.28164$      |\n",
    "| $Z_{01}$                   |   | ohms  |   | $46.67$               |   | $45.97$        |\n",
    "| $C_{12}$                   |   | pF    |   | $22.83$               |   | $24.50$        |\n",
    "| $C_{1G} = C_{2G}$          |   | pF    |   | $94.89$               |   | $102.77$       |\n",
    "| $L_{11} = L_{22}$          |   | nH    |   | $256.43$              |   | $268.80$       |\n",
    "| $L_{12}$                   |   | nH    |   | $61.26$               |   | $75.71$        |"
   ]
  },
  {
   "cell_type": "markdown",
   "metadata": {},
   "source": [
    "### Questions\n",
    "\n",
    "#### 1. Changes in coupled noise polarity due to load type\n",
    "\n",
    "| Data      |  | Coupling  |  | Short       |              | Open        |              |\n",
    "|-:---------|--|-----------|--|-:-----------|-:------------|-:-----------|-:------------|\n",
    "|           |  |           |  | rising edge | falling edge | rising edge | falling edge |\n",
    "| LineA_ChA |  | backwards |  | pos         | neg          | pos         | pos          |\n",
    "| LineA_ChB |  | forwards  |  | neg         | pos          | neg         | neg          |\n",
    "| LineB_ChA |  | backwards |  | pos         | neg          | pos         | pos          |\n",
    "| LineB_ChB |  | forwards  |  | neg         | pos          | neg         | neg          |\n",
    "| LineC_ChA |  | backwards |  | pos         | neg          | pos         | pos          |\n",
    "| LineC_ChB |  | forwards  |  | neg         | pos          | neg         | neg          |\n",
    "\n",
    "- Backward coupled noise follows the same polarity of the input square wave for SHORT termination.\n",
    "- Backward coupled noise remains positive regardless of the input square wave slope for OPEN termination.\n",
    "- Forward coupled noise follows the opposite polarity of the input square wave for SHORT termination.\n",
    "- Forward coupled noise remains negative regardless of the input square wave slope for OPEN termination.\n",
    "\n",
    "#### 2. Show $K_C$ and $K_L$ are dependent on the separation $s$ and independent of length $d$.\n",
    "\n",
    "*Original $K_C$ and $K_L$'were calculated with Line A of distance $d = 0.1$m and separation $s = 0.0005$m.*\n",
    "\n",
    "<hr>\n",
    "\n",
    "Repeat 'Analysis and Estimation of $K_C$ and $K_L$' with Line C of distance $d = 0.05$m and separation $s = 0.0005$m. \n",
    "\n",
    "Repeat 'Analysis and Estimation of $K_C$ and $K_L$' with Line B of distance $d = 0.10$m and separation $s = 0.001$m.\n",
    "\n",
    "#### Summary of $\\text{TL}_A$, $\\text{TL}_B$, $\\text{TL}_C$\n",
    "\n",
    "| Coupled Lines  | Coupled length *d*  | Line separation *s*  | $K_C$| $K_L$ |\n",
    "|:--------------:|:-------------------:|:--------------------:|-------|------|\n",
    "| A              | $0.10$ | $0.0005$  | $0.2152$ | $0.2888$  |\n",
    "| B              | $0.10$ | $0.0010$  | $0.1692$ | $0.1764$  |\n",
    "| C              | $0.05$ | $0.0005$  | $0.2459$ | $0.2534$  |\n",
    "\n",
    "\n",
    "The separation *s* affects the backwards coupled voltage $V_b$ which is directly correlated to $K_C$ and $K_L$. As sepeation increases, the magnitude of $V_b$ decreases. The coupled length *d* has no effect."
   ]
  },
  {
   "cell_type": "markdown",
   "metadata": {},
   "source": [
    "#### 3. Understand waveforms of forward and backward coupled noisese\n",
    "\n",
    "![](images/Lab02Q3.png)\n",
    "\n",
    "(a) Short load type is attached at Port 2 (thru port).\n",
    "\n",
    "(b) Explain the differences in forward coupled noises - waveforms A and B.\n",
    "\n",
    "\n",
    "\n",
    "(c) Explain the differences in backward coupled noises - waveforms C and D.\n",
    "\n"
   ]
  },
  {
   "cell_type": "code",
   "execution_count": null,
   "metadata": {},
   "outputs": [],
   "source": []
  }
 ],
 "metadata": {
  "kernelspec": {
   "display_name": "Python 3",
   "language": "python",
   "name": "python3"
  },
  "language_info": {
   "codemirror_mode": {
    "name": "ipython",
    "version": 3
   },
   "file_extension": ".py",
   "mimetype": "text/x-python",
   "name": "python",
   "nbconvert_exporter": "python",
   "pygments_lexer": "ipython3",
   "version": "3.7.3"
  }
 },
 "nbformat": 4,
 "nbformat_minor": 2
}
